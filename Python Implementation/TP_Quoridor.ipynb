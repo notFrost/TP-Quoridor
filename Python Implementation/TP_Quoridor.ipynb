{
  "nbformat": 4,
  "nbformat_minor": 0,
  "metadata": {
    "colab": {
      "name": "TP-Quoridor",
      "provenance": [],
      "collapsed_sections": []
    },
    "kernelspec": {
      "name": "python3",
      "display_name": "Python 3"
    }
  },
  "cells": [
    {
      "cell_type": "markdown",
      "metadata": {
        "id": "aY0MPgMu1SWw"
      },
      "source": [
        "**Integrantes**\n",
        "\n",
        "Elvia Arteaga  - u201616507\n",
        "\n",
        "Diego Pereira - u201723546\n",
        "\n",
        "Diego Livia   - u201612753\n",
        "\n",
        "---\n",
        "\n"
      ]
    },
    {
      "cell_type": "markdown",
      "metadata": {
        "id": "geR5aciX3aKP"
      },
      "source": [
        "**Introduccion**\n",
        "\n",
        "Mucho se ha dicho respecto al alcance de los juegos virtuales en pleno siglo XXI. Desde William Higinbotham con su impresionante aporte a la industria de los juegos hasta Ralph Baer con sus experiencias y premios. Es por ello que nuestro entendimiento en este campo ha variado tanto, pues con el pasar del tiempo ha ido mejorando cada aspecto, desde la calidad de las imágenes hasta las estrategias que puede utilizar un humano para ganarle a una máquina en sentidos tan impredecibles que a nadie sorprenderá. Es así que, el presente trabajo de investigación está orientado al estudio de la lógica del juego llamado Quoridor desde un enfoque descriptivo y explicativo donde ejemplificamos de manera objetiva y puntual en que dichas especulaciones operan, sobre todo a la hora de validar conocimientos, actitudes y estrategias y así relacionarlas con nuestra vida diaria.\n",
        "\n",
        "El Quoridor es un juego abstracto de estrategia en el que pueden participar de dos a más jugadores. Se utiliza un tablero similar el ajedrez, en la que cada jugador tendrá que llevar su ficha respectiva al otro extremo del tablero. El oponente podrá hacer uso de bloques de madera para obstruir el paso, de esta manera obliga a los demás jugadores a desviarse y retrasar así su llegada. La única restricción es no poder encerrar a la ficha riva con el uso de estos bloques. Gana el jugador que lleve su ficha al otro extremo del tablero.\n",
        "\n",
        "Al terminar la investigación, se realizará la codificación y exportación en un ejecutable del juego \"Quoridor\" utilizando el lenguaje de programación Python. Además de utilizar las técnicas o métodos aprendidos en el curso de \"Complejidad Algorítmica\""
      ]
    },
    {
      "cell_type": "markdown",
      "metadata": {
        "id": "tuOcYMk-3hHm"
      },
      "source": [
        "**Estado del Arte**\n",
        "\n",
        "En el presente apartado se hace una revisión exhaustiva de investigaciones que plantean algoritmos capaces de poder jugar el juego abstracto de estrategia Quoridor. Un algoritmo recursivo que es utilizado a menudo para encontrar un movimiento óptimo para diversos juegos de mesa es el Minimax. Según Iker Eizagirre, en su investigación Quoridor, a board game AI (2018), afirma que dicho algoritmo es eficiente hasta cierto punto, debido a que conforme el juego transcurre surgen nuevas posibilidades de movimiento, lo cual hace que el árbol de posibilidades de movimiento sea demasiado grande para realizar una búsqueda Minimax hasta las hojas finales. Es en este punto donde surge una posible solución a este problema, lo cual sería limitando la profundidad de la búsqueda Minimax mediante la Poda alfa-beta, lo cual es una técnica de búsqueda que reduce el número de nodos evaluados en un árbol de juego, creando un rango potencial, el cual se limita por un valor mínimo donde no se permite movimientos que produzcan un potencial menor que el mínimo. Según P.J.C. Mertens en A Quoridor-playing Agent (2006), primero para poder desarrollar un algoritmo que pueda desempeñar un nivel razonable en Quoridor se debe plantear primero la complejidad del juego, para que de esta manera se pueda seleccionar el algoritmo óptimo para su futura implementación. Como bien es sabido el algoritmo Minimax, es comúnmente usado. Mertens plantea al igual que Eizagirre que dicho algoritmo es útil hasta cierto punto ya que el árbol de posibilidades tiende a crecer de manera exponencial. Por lo que, una manera en la que Mertens soluciono esto fue limitando la profundidad de la búsqueda Minimax. Además de utilizar funciones de evaluación para determinar el valor de una posición, el valor devuelto por la función vendría a ser la suma de los valores ponderados obtenidos por varias funciones de evaluación. Merten concluye mencionando que las extensiones del algoritmo Minimax, no conducen a un algoritmo capaz de jugar Quoridor de manera competente. Ya que explica y prueba que el desempeño alcanzado es un nivel amateur. Una de las razones sería la poca profundidad que utilizo en la búsqueda Minimax. Por lo que un Deep Search podría haber dado lugar a mejores movimientos y por ende a mejores resultados. En conclusión, para desarrollar un algoritmo que juegue Quoridor de manera competente, se necesita que la complejidad del algoritmo sea razonable ya que de esto dependerá la velocidad de respuesta del mismo. Además, cuanto más profundo y rápido pueda buscar nuestro algoritmo, el resultado será más preciso y desarrollado en una cantidad razonable de tiempo."
      ]
    },
    {
      "cell_type": "markdown",
      "metadata": {
        "id": "rqL6RqdT3sva"
      },
      "source": [
        "**Metodologia**\n",
        "\n",
        "Para el desarrollo del Proyecto de Complejidad algorítmica implementaremos una metodología que usaremos durante todo el proceso. Esta mostrará el paso a paso de las acciones que usaremos para poder lograr el objetivo del proyecto. A continuación, se explicarán las 3 Fases iniciales que aplicaremos en el proyecto.\n",
        "\n",
        "**Analisis**\n",
        "\n",
        "Para lograr el objetivo del proyecto tenemos que analizar las mecánicas del juego de mesa Quoridor. Esto con el fin de poder conocer más a fondo las características que tengamos que implementar para cada jugador. Nuestra meta para esta primera instancia es implementar los movimientos de los bots, o sea los jugadores, dentro del mapa. Para esto estudiamos las condiciones que tiene los jugadores dentro del juego para poder avanzar con éxito y así poder ganar el juego.\n",
        "\n",
        "**Diseño**\n",
        "\n",
        "El juego consiste en un mapa de cuadros de dimensiones de 9x9 con 20 paredes y cuatro jugadores. Esto nos indica los elementos que deberemos tener en consideración al momento de implementar las opciones que tendrá cada Bot al momento de realizar un movimiento. El diseño que tendrá el juego será implementado mediante una matriz. Esta última indicará los obstáculos que se presentarán dentro del juego para cada Bot. Esto nos servirá para poder realizar los movimientos inteligentes de cada player. Si es que un bot llega a la fila opuesta a su fila de inicio ganará el juego , es decir que si se encuentra 8 filas más que su posición inicial se considera automáticamente que llegó a la fila opuesta\n",
        "\n",
        "**Implementacion**\n",
        "\n",
        "Para la creación y edición del documento del proyecto se estará usando el sistema de composición de texto LaTex y siendo editado en la herramienta OverLeaf. Como desarrolladores implementaremos nuestros algoritmos y el desarrollo del juego en el lenguaje Python. Luego se definirá un mismo editor de código para que el trabajo sea lo más elocuente. Tal como mencionado anteriormente el Mara será implementado en una matriz con el fin de facilitar el algoritmo de los Bot. Para el desarrollo de este último se presentarán 3 diferentes tipos de algoritmos para poder realizar los movimientos de cada jugador. Para una facilidad de trabajo en equipo estaremos utilizando la plataforma de GitHub. En esta se creará un repositorio nos ayudará a poder tener distintas versiones del proyecto para poder corregir los errores que podríamos tener.\n",
        "\n",
        "---\n",
        "\n"
      ]
    },
    {
      "cell_type": "code",
      "metadata": {
        "id": "FvdiAl-Y41xF"
      },
      "source": [
        "#Lectura de Datos\n",
        "f = open('file.txt','r+')\n",
        "lines = f.readlines()\n",
        "\n",
        "#Separacion de Datos\n",
        "dimensions = lines[int(lines[0])]\n",
        "start = lines[int(lines[1])]\n",
        "end = lines[int(lines[2])]\n",
        "walls = lines[2:]\n",
        "\n"
      ],
      "execution_count": null,
      "outputs": []
    },
    {
      "cell_type": "code",
      "metadata": {
        "id": "zAoA1xVf4nRY"
      },
      "source": [
        "def DFS ():"
      ],
      "execution_count": null,
      "outputs": []
    },
    {
      "cell_type": "code",
      "metadata": {
        "id": "JTwyJbly1Ows"
      },
      "source": [
        "def BFS ():"
      ],
      "execution_count": null,
      "outputs": []
    },
    {
      "cell_type": "code",
      "metadata": {
        "id": "OJsBn9Oh4k0Y",
        "outputId": "05f2f8bb-8928-45ae-84bf-9f62cba95042",
        "colab": {
          "base_uri": "https://localhost:8080/",
          "height": 51
        }
      },
      "source": [
        "Recorrido = []\n",
        "def finish(Node):\n",
        "  #recorre expanded desde el nodo end hasta que el nodo que estemos tenga como prev \"start\"\n",
        "  while Node.prev != False:\n",
        "    Recorrido.append(Node)\n",
        "    Node = Node.prev\n",
        "  Recorrido.append(Node)\n",
        "  return Recorrido\n",
        "\n",
        "#Node\n",
        "class Node:\n",
        "  def __init__(self, pos, pre, end):\n",
        "    self.Pos = pos\n",
        "    self.prev = pre\n",
        "    if self.prev!=False:\n",
        "      self.G = self.prev.G+1\n",
        "    else:\n",
        "      self.G = 0\n",
        "    self.F = self.calcf(end)\n",
        "\n",
        "  def calcf(self, end):\n",
        "    h = abs(self.Pos[0]-end[0])+abs(self.Pos[1]-end[1])\n",
        "    return h+self.G\n",
        "\n",
        "#Checking Functions ##Tenemos que conseguir dimensions de algun lugar, esta en lectura de .txt\n",
        "def CheckBorder(Pos):\n",
        "  if (Pos[0]>=0 and Pos[0]<dimensions[0]) and (Pos[1]>=0 and Pos[1]<dimensions[1]):\n",
        "    return True\n",
        "  return False\n",
        "\n",
        "def CheckPrev(curr,Pos):\n",
        "  if not curr.prev:\n",
        "    return True\n",
        "  elif curr.prev.Pos == Pos:\n",
        "    return False\n",
        "  return True\n",
        "  \n",
        "def CheckArr(arr,Pos):\n",
        "  for i in arr:\n",
        "    if i.Pos == Pos:\n",
        "      return False\n",
        "  return True\n",
        "\n",
        "def CheckF(Nod):\n",
        "  return Nod.F\n",
        "\n",
        "#Main Aglorithm\n",
        "def Astar(expanded, viewed, walls, end):\n",
        "  curr = viewed[0]\n",
        "  if curr.Pos == end:\n",
        "    expanded.append(curr)\n",
        "    print('End encontrado')\n",
        "    return finish(curr)\n",
        "  #Cardinal Verification\n",
        "  Nb = []\n",
        "  for i in [-1,1]:\n",
        "    Nb.append((curr.Pos[0],curr.Pos[1]+i))\n",
        "    Nb.append((curr.Pos[0]+i,curr.Pos[1]))\n",
        "  for next in Nb:\n",
        "    #To do: Añadir implementacion de CheckWalls()\n",
        "    if CheckPrev(curr,next) and CheckBorder(next) and CheckArr(expanded,next) and CheckArr(viewed,next):\n",
        "      viewed.append(Node(next,curr, end))\n",
        "  #Add to expanded and Sort new Viewed List\n",
        "  expanded.append(curr)\n",
        "  viewed.pop(0)\n",
        "  viewed.sort(key=CheckF)\n",
        "  #Possibility Verification\n",
        "  if viewed:\n",
        "    Astar(expanded, viewed, walls, end)\n",
        "  else:\n",
        "    return false\n",
        " \n",
        "\n",
        "#Main\n",
        "#test\n",
        "viewed, expanded,walls = [],[],[]\n",
        "dimensions = [7,7]\n",
        "start = [4,6]\n",
        "end = (2,0)\n",
        "viewed.append(Node((start[0],start[1]), False, end))\n",
        "Astar(expanded, viewed, walls, end)\n",
        "for x in Recorrido:\n",
        "  print(x.Pos,end='')\n"
      ],
      "execution_count": 41,
      "outputs": [
        {
          "output_type": "stream",
          "text": [
            "End encontrado\n",
            "(2, 0)(3, 0)(4, 0)(4, 1)(4, 2)(4, 3)(4, 4)(4, 5)(4, 6)"
          ],
          "name": "stdout"
        }
      ]
    },
    {
      "cell_type": "markdown",
      "metadata": {
        "id": "0j2nM9CD1Qjt"
      },
      "source": [
        "**Bibliografia**\n",
        "\n",
        "https://pdfs.semanticscholar.org/acad/6962a9bb3eb3fde4272f476d6625eb0a8182.pdf\n",
        "\n",
        "https://project.dke.maastrichtuniversity.nl/games/files/bsc/Mertens_BSc-paper.pdf\n",
        "\n",
        "https://ikereizagirre.files.wordpress.com/2018/03/quoridor-a-board-game-ai.pdf"
      ]
    }
  ]
}